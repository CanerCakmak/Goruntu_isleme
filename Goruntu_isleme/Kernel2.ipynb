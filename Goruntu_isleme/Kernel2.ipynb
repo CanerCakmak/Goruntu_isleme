{
 "cells": [
  {
   "cell_type": "markdown",
   "id": "43c541e1",
   "metadata": {},
   "source": [
    "# Caner Çakmak 200601070"
   ]
  },
  {
   "cell_type": "markdown",
   "id": "dfde992a",
   "metadata": {},
   "source": [
    "## Kütüphaneleri Ekleme "
   ]
  },
  {
   "cell_type": "code",
   "execution_count": 1,
   "id": "4122e9d3",
   "metadata": {},
   "outputs": [],
   "source": [
    "import cv2\n",
    "import numpy as np"
   ]
  },
  {
   "cell_type": "markdown",
   "id": "99aa7451",
   "metadata": {},
   "source": [
    "## Resim Okuma"
   ]
  },
  {
   "cell_type": "code",
   "execution_count": 2,
   "id": "06c743a0",
   "metadata": {},
   "outputs": [],
   "source": [
    "img = cv2.imread(\"Data/TomAndJerry.png\")"
   ]
  },
  {
   "cell_type": "markdown",
   "id": "625e824b",
   "metadata": {},
   "source": [
    "### Resim Gösterme"
   ]
  },
  {
   "cell_type": "code",
   "execution_count": 3,
   "id": "d5f47a47",
   "metadata": {},
   "outputs": [],
   "source": [
    "cv2.imshow(\"Goruntu\", img)\n",
    "cv2.waitKey(0)\n",
    "cv2.destroyAllWindows()"
   ]
  },
  {
   "cell_type": "markdown",
   "id": "8e4214e7",
   "metadata": {},
   "source": [
    "### Görselimizin Pikselleri"
   ]
  },
  {
   "cell_type": "code",
   "execution_count": 4,
   "id": "ec3de974",
   "metadata": {},
   "outputs": [
    {
     "name": "stdout",
     "output_type": "stream",
     "text": [
      "(193, 352, 3)\n"
     ]
    }
   ],
   "source": [
    "print(img.shape)"
   ]
  },
  {
   "cell_type": "markdown",
   "id": "9ed95082",
   "metadata": {},
   "source": [
    "### Resim Kaydetme"
   ]
  },
  {
   "cell_type": "code",
   "execution_count": 5,
   "id": "2c0f9202",
   "metadata": {},
   "outputs": [
    {
     "data": {
      "text/plain": [
       "True"
      ]
     },
     "execution_count": 5,
     "metadata": {},
     "output_type": "execute_result"
    }
   ],
   "source": [
    "cv2.imwrite(\"Kaydedilen/kaydedilentomvejerry.png\",img)"
   ]
  },
  {
   "cell_type": "markdown",
   "id": "c3187327",
   "metadata": {},
   "source": [
    "## Arkaplan Okuma "
   ]
  },
  {
   "cell_type": "code",
   "execution_count": 6,
   "id": "93bbce45",
   "metadata": {},
   "outputs": [],
   "source": [
    "background = cv2.imread(\"Data/TomAndJerryArkaPlan.png\")"
   ]
  },
  {
   "cell_type": "markdown",
   "id": "455d224c",
   "metadata": {},
   "source": [
    "### Background Gösterme"
   ]
  },
  {
   "cell_type": "code",
   "execution_count": 7,
   "id": "7eb64cf6",
   "metadata": {},
   "outputs": [],
   "source": [
    "cv2.imshow(\"Goruntu\", background)\n",
    "cv2.waitKey(0)\n",
    "cv2.destroyAllWindows()"
   ]
  },
  {
   "cell_type": "markdown",
   "id": "ed14f9a6",
   "metadata": {},
   "source": [
    "### Arka Planın Piksellerini Yazdırma"
   ]
  },
  {
   "cell_type": "code",
   "execution_count": 8,
   "id": "c64ccd26",
   "metadata": {},
   "outputs": [
    {
     "name": "stdout",
     "output_type": "stream",
     "text": [
      "(193, 352, 3)\n"
     ]
    }
   ],
   "source": [
    "print(background.shape)"
   ]
  },
  {
   "cell_type": "markdown",
   "id": "9ed95082",
   "metadata": {},
   "source": [
    "### Arka Plan Kaydetme"
   ]
  },
  {
   "cell_type": "code",
   "execution_count": 9,
   "id": "72f6019f",
   "metadata": {},
   "outputs": [
    {
     "data": {
      "text/plain": [
       "True"
      ]
     },
     "execution_count": 9,
     "metadata": {},
     "output_type": "execute_result"
    }
   ],
   "source": [
    "cv2.imwrite(\"Kaydedilen/kaydedilenarkaplan.png\",background)"
   ]
  },
  {
   "cell_type": "markdown",
   "id": "a6bbf19f",
   "metadata": {},
   "source": [
    "## Resim ve Arka Planı Yeniden Şekillendirme"
   ]
  },
  {
   "cell_type": "markdown",
   "id": "c46f1020",
   "metadata": {},
   "source": [
    "Resimlerin boyutları birbirini tuttuğu için resimleri yeniden şekillendrimeye gerek yoktur."
   ]
  },
  {
   "cell_type": "markdown",
   "id": "a7592630",
   "metadata": {},
   "source": [
    "## Arka Planı Resimle Birleştirme "
   ]
  },
  {
   "cell_type": "code",
   "execution_count": 10,
   "id": "7da29737",
   "metadata": {},
   "outputs": [],
   "source": [
    "TomAndJerry = cv2.imread(\"Data/TomAndJerry.png\",0)\n",
    "TomAndJerryORJ = cv2.imread(\"Data/TomAndJerry.png\")\n",
    "Background = cv2.imread(\"Data/TomAndJerryArkaPlan.png\")\n",
    "\n",
    "\n",
    "TomAndJerry = TomAndJerry.astype('bool')\n",
    "\n",
    "cv2.imshow(\"Background\",Background)\n",
    "Background[TomAndJerry] =TomAndJerryORJ[TomAndJerry]\n",
    "\n",
    "cv2.imshow(\"TomAndJerry\",TomAndJerryORJ)\n",
    "\n",
    "cv2.imshow(\"FinalImage\",Background)\n",
    "cv2.waitKey(0)\n",
    "cv2.destroyAllWindows()"
   ]
  },
  {
   "cell_type": "markdown",
   "id": "c2a5a856",
   "metadata": {},
   "source": [
    "### Görüntüyü Kaydetme"
   ]
  },
  {
   "cell_type": "code",
   "execution_count": 11,
   "id": "7218c4cd",
   "metadata": {},
   "outputs": [
    {
     "data": {
      "text/plain": [
       "True"
      ]
     },
     "execution_count": 11,
     "metadata": {},
     "output_type": "execute_result"
    }
   ],
   "source": [
    "cv2.imwrite(\"Kaydedilen/FinalImage.png\", Background)"
   ]
  },
  {
   "cell_type": "markdown",
   "id": "68aa9dc5",
   "metadata": {},
   "source": [
    "## Alternatif Yol"
   ]
  },
  {
   "cell_type": "code",
   "execution_count": 19,
   "id": "4055eda6",
   "metadata": {},
   "outputs": [],
   "source": [
    "result = cv2.addWeighted(img, 1, background, 0.7, 0)"
   ]
  },
  {
   "cell_type": "markdown",
   "id": "373c9d2c",
   "metadata": {},
   "source": [
    "## Sonucu Yazdırma"
   ]
  },
  {
   "cell_type": "code",
   "execution_count": 20,
   "id": "6c2c882a",
   "metadata": {},
   "outputs": [],
   "source": [
    "cv2.imshow('Result', result)\n",
    "cv2.waitKey(0)\n",
    "cv2.destroyAllWindows()"
   ]
  },
  {
   "cell_type": "code",
   "execution_count": 21,
   "id": "34d6eb98",
   "metadata": {},
   "outputs": [
    {
     "data": {
      "text/plain": [
       "True"
      ]
     },
     "execution_count": 21,
     "metadata": {},
     "output_type": "execute_result"
    }
   ],
   "source": [
    "cv2.imwrite(\"Kaydedilen/result.png\",result)"
   ]
  },
  {
   "cell_type": "code",
   "execution_count": null,
   "id": "aed42b83",
   "metadata": {},
   "outputs": [],
   "source": []
  }
 ],
 "metadata": {
  "kernelspec": {
   "display_name": "Python 3 (ipykernel)",
   "language": "python",
   "name": "python3"
  },
  "language_info": {
   "codemirror_mode": {
    "name": "ipython",
    "version": 3
   },
   "file_extension": ".py",
   "mimetype": "text/x-python",
   "name": "python",
   "nbconvert_exporter": "python",
   "pygments_lexer": "ipython3",
   "version": "3.9.7"
  }
 },
 "nbformat": 4,
 "nbformat_minor": 5
}
