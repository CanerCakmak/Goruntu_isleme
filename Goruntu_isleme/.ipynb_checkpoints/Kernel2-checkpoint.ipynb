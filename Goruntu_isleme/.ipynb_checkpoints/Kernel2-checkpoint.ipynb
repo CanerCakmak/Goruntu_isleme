{
 "cells": [
  {
   "cell_type": "markdown",
   "id": "43c541e1",
   "metadata": {},
   "source": [
    "# Caner Çakmak 200601070"
   ]
  },
  {
   "cell_type": "markdown",
   "id": "dfde992a",
   "metadata": {},
   "source": [
    "## Kütüphaneleri Ekleme "
   ]
  },
  {
   "cell_type": "code",
   "execution_count": 1,
   "id": "4122e9d3",
   "metadata": {},
   "outputs": [],
   "source": [
    "import cv2\n",
    "import numpy as np"
   ]
  },
  {
   "cell_type": "markdown",
   "id": "99aa7451",
   "metadata": {},
   "source": [
    "## Resim Okuma"
   ]
  },
  {
   "cell_type": "code",
   "execution_count": 2,
   "id": "06c743a0",
   "metadata": {},
   "outputs": [],
   "source": [
    "img = cv2.imread(\"Data/TomAndJerry.png\")"
   ]
  },
  {
   "cell_type": "markdown",
   "id": "625e824b",
   "metadata": {},
   "source": [
    "### Resim Gösterme"
   ]
  },
  {
   "cell_type": "code",
   "execution_count": null,
   "id": "f89e0b76",
   "metadata": {},
   "outputs": [],
   "source": [
    "cv2.imshow(\"Goruntu\", img)\n",
    "cv2.waitKey(0)\n",
    "cv2.destroyAllWindows()"
   ]
  },
  {
   "cell_type": "markdown",
   "id": "8a3f4395",
   "metadata": {},
   "source": [
    "### Görselimizin Pikselleri"
   ]
  },
  {
   "cell_type": "code",
   "execution_count": 3,
   "id": "b74121df",
   "metadata": {},
   "outputs": [
    {
     "name": "stdout",
     "output_type": "stream",
     "text": [
      "(193, 352, 3)\n"
     ]
    }
   ],
   "source": [
    "print(img.shape)"
   ]
  },
  {
   "cell_type": "markdown",
   "id": "c3187327",
   "metadata": {},
   "source": [
    "## Arkaplan Okuma "
   ]
  },
  {
   "cell_type": "code",
   "execution_count": 4,
   "id": "93bbce45",
   "metadata": {},
   "outputs": [],
   "source": [
    "background = cv2.imread(\"Data/TomAndJerryArkaPlan.png\")"
   ]
  },
  {
   "cell_type": "markdown",
   "id": "07d1f3ad",
   "metadata": {},
   "source": [
    "### Background Gösterme"
   ]
  },
  {
   "cell_type": "code",
   "execution_count": null,
   "id": "babe4fc5",
   "metadata": {},
   "outputs": [],
   "source": [
    "cv2.imshow(\"Goruntu\", background)\n",
    "cv2.waitKey(0)\n",
    "cv2.destroyAllWindows()"
   ]
  },
  {
   "cell_type": "markdown",
   "id": "af050e3f",
   "metadata": {},
   "source": [
    "### Arka Planın Piksellerini Yazdırma"
   ]
  },
  {
   "cell_type": "code",
   "execution_count": 5,
   "id": "324ee616",
   "metadata": {},
   "outputs": [
    {
     "name": "stdout",
     "output_type": "stream",
     "text": [
      "(193, 352, 3)\n"
     ]
    }
   ],
   "source": [
    "print(background.shape)"
   ]
  },
  {
   "cell_type": "markdown",
   "id": "a6bbf19f",
   "metadata": {},
   "source": [
    "## Resim ve Arka Planı Yeniden Şekillendirme"
   ]
  },
  {
   "cell_type": "markdown",
   "id": "c46f1020",
   "metadata": {},
   "source": [
    "Resimlerin boyutları birbirini tuttuğu için resimleri yeniden şekillendrimeye gerek yoktur."
   ]
  },
  {
   "cell_type": "markdown",
   "id": "a7592630",
   "metadata": {},
   "source": [
    "## Arka Planı Resimle Birleştirme "
   ]
  },
  {
   "cell_type": "code",
   "execution_count": null,
   "id": "4055eda6",
   "metadata": {},
   "outputs": [],
   "source": [
    "result = cv2.addWeighted(img, 1, background, 0.5, 0)"
   ]
  },
  {
   "cell_type": "markdown",
   "id": "373c9d2c",
   "metadata": {},
   "source": [
    "## Sonucu Yazdırma"
   ]
  },
  {
   "cell_type": "code",
   "execution_count": null,
   "id": "6c2c882a",
   "metadata": {},
   "outputs": [],
   "source": [
    "cv2.imshow('Result', result)\n",
    "cv2.waitKey(0)"
   ]
  }
 ],
 "metadata": {
  "kernelspec": {
   "display_name": "Python 3 (ipykernel)",
   "language": "python",
   "name": "python3"
  },
  "language_info": {
   "codemirror_mode": {
    "name": "ipython",
    "version": 3
   },
   "file_extension": ".py",
   "mimetype": "text/x-python",
   "name": "python",
   "nbconvert_exporter": "python",
   "pygments_lexer": "ipython3",
   "version": "3.9.7"
  }
 },
 "nbformat": 4,
 "nbformat_minor": 5
}
