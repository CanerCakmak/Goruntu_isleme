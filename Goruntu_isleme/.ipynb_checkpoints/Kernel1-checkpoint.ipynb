{
 "cells": [
  {
   "cell_type": "markdown",
   "id": "2158383c",
   "metadata": {},
   "source": [
    "# Caner Çakmak 200601070"
   ]
  },
  {
   "cell_type": "markdown",
   "id": "16f26829",
   "metadata": {},
   "source": [
    "## Kütüphaneleri Yükle"
   ]
  },
  {
   "cell_type": "code",
   "execution_count": 7,
   "id": "9d8d1718",
   "metadata": {},
   "outputs": [],
   "source": [
    "import cv2\n",
    "import numpy as np"
   ]
  },
  {
   "cell_type": "markdown",
   "id": "774e0ac5",
   "metadata": {},
   "source": [
    "### Resim Okuma"
   ]
  },
  {
   "cell_type": "code",
   "execution_count": 8,
   "id": "28abe89e",
   "metadata": {},
   "outputs": [
    {
     "name": "stdout",
     "output_type": "stream",
     "text": [
      "(400, 800, 3)\n"
     ]
    }
   ],
   "source": [
    "#Resim Oku\n",
    "resim = cv2.imread(\"Data/manzara.png\")\n",
    "print(resim.shape)"
   ]
  },
  {
   "cell_type": "markdown",
   "id": "625e824b",
   "metadata": {},
   "source": [
    "### Resim Gösterme"
   ]
  },
  {
   "cell_type": "code",
   "execution_count": 9,
   "id": "738c3ab3",
   "metadata": {},
   "outputs": [
    {
     "data": {
      "text/plain": [
       "-1"
      ]
     },
     "execution_count": 9,
     "metadata": {},
     "output_type": "execute_result"
    }
   ],
   "source": [
    "#Resim Goster\n",
    "cv2.imshow(\"Goruntu\", resim)\n",
    "cv2.waitKey(0)"
   ]
  },
  {
   "cell_type": "markdown",
   "id": "b3d5527d",
   "metadata": {},
   "source": [
    "### Resim Kaydetme"
   ]
  },
  {
   "cell_type": "code",
   "execution_count": 10,
   "id": "588ae87a",
   "metadata": {},
   "outputs": [
    {
     "data": {
      "text/plain": [
       "True"
      ]
     },
     "execution_count": 10,
     "metadata": {},
     "output_type": "execute_result"
    }
   ],
   "source": [
    "cv2.imwrite(\"Kaydedilen/kaydedilenmanzara.png\",resim)"
   ]
  },
  {
   "cell_type": "markdown",
   "id": "6af528d2",
   "metadata": {},
   "source": [
    "## Resim Bölme"
   ]
  },
  {
   "cell_type": "code",
   "execution_count": 13,
   "id": "34207c35",
   "metadata": {},
   "outputs": [
    {
     "ename": "NameError",
     "evalue": "name 'sagparca' is not defined",
     "output_type": "error",
     "traceback": [
      "\u001b[1;31m---------------------------------------------------------------------------\u001b[0m",
      "\u001b[1;31mNameError\u001b[0m                                 Traceback (most recent call last)",
      "\u001b[1;32m~\\AppData\\Local\\Temp/ipykernel_17844/1472078286.py\u001b[0m in \u001b[0;36m<module>\u001b[1;34m\u001b[0m\n\u001b[0;32m     10\u001b[0m \u001b[1;33m\u001b[0m\u001b[0m\n\u001b[0;32m     11\u001b[0m \u001b[0mcv2\u001b[0m\u001b[1;33m.\u001b[0m\u001b[0mimshow\u001b[0m\u001b[1;33m(\u001b[0m\u001b[1;34m\"resim\"\u001b[0m\u001b[1;33m,\u001b[0m\u001b[0mresim\u001b[0m\u001b[1;33m)\u001b[0m\u001b[1;33m\u001b[0m\u001b[1;33m\u001b[0m\u001b[0m\n\u001b[1;32m---> 12\u001b[1;33m \u001b[0mcv2\u001b[0m\u001b[1;33m.\u001b[0m\u001b[0mimshow\u001b[0m\u001b[1;33m(\u001b[0m\u001b[1;34m\"resim2\"\u001b[0m\u001b[1;33m,\u001b[0m\u001b[0msagparca\u001b[0m\u001b[1;33m)\u001b[0m\u001b[1;33m\u001b[0m\u001b[1;33m\u001b[0m\u001b[0m\n\u001b[0m\u001b[0;32m     13\u001b[0m \u001b[0mcv2\u001b[0m\u001b[1;33m.\u001b[0m\u001b[0mimshow\u001b[0m\u001b[1;33m(\u001b[0m\u001b[1;34m\"parca\"\u001b[0m\u001b[1;33m,\u001b[0m\u001b[0msolparca\u001b[0m\u001b[1;33m)\u001b[0m\u001b[1;33m\u001b[0m\u001b[1;33m\u001b[0m\u001b[0m\n\u001b[0;32m     14\u001b[0m \u001b[0mcv2\u001b[0m\u001b[1;33m.\u001b[0m\u001b[0mimshow\u001b[0m\u001b[1;33m(\u001b[0m\u001b[1;34m\"yeniresim\"\u001b[0m\u001b[1;33m,\u001b[0m\u001b[0myeniResim\u001b[0m\u001b[1;33m)\u001b[0m\u001b[1;33m\u001b[0m\u001b[1;33m\u001b[0m\u001b[0m\n",
      "\u001b[1;31mNameError\u001b[0m: name 'sagparca' is not defined"
     ]
    }
   ],
   "source": [
    "resim = cv2.imread(\"Data/manzara.png\")\n",
    "kaynak_resim = cv2.imread(\"Data/manzara.png\")\n",
    "\n",
    "cv2.rectangle(kaynak_resim,(400,0),(400,800),(255,0,0),5)\n",
    "parca = kaynak_resim[0:400,0:400]\n",
    "parca2 = kaynak_resim[0:400,400:800]\n",
    "yeniResim = np.copy(resim)\n",
    "yeniResim[0:800,0:400] = parca\n",
    "\n",
    "\n",
    "cv2.imshow(\"resim\",resim)\n",
    "cv2.imshow(\"resim2\",sagparca)\n",
    "cv2.imshow(\"parca\",solparca)\n",
    "cv2.imshow(\"yeniresim\",yeniResim)\n",
    "cv2.waitKey(0)"
   ]
  },
  {
   "cell_type": "markdown",
   "id": "d02b4c69",
   "metadata": {},
   "source": [
    "### Bölünen Resimleri Kaydetme"
   ]
  },
  {
   "cell_type": "code",
   "execution_count": 12,
   "id": "f99523c6",
   "metadata": {},
   "outputs": [
    {
     "ename": "NameError",
     "evalue": "name 'sagparca' is not defined",
     "output_type": "error",
     "traceback": [
      "\u001b[1;31m---------------------------------------------------------------------------\u001b[0m",
      "\u001b[1;31mNameError\u001b[0m                                 Traceback (most recent call last)",
      "\u001b[1;32m~\\AppData\\Local\\Temp/ipykernel_17844/470000243.py\u001b[0m in \u001b[0;36m<module>\u001b[1;34m\u001b[0m\n\u001b[1;32m----> 1\u001b[1;33m \u001b[0mcv2\u001b[0m\u001b[1;33m.\u001b[0m\u001b[0mimwrite\u001b[0m\u001b[1;33m(\u001b[0m\u001b[1;34m\"Kaydedilen/kaydedilenmanzara.png\"\u001b[0m\u001b[1;33m,\u001b[0m\u001b[0msagparca\u001b[0m\u001b[1;33m)\u001b[0m\u001b[1;33m\u001b[0m\u001b[1;33m\u001b[0m\u001b[0m\n\u001b[0m\u001b[0;32m      2\u001b[0m \u001b[0mcv2\u001b[0m\u001b[1;33m.\u001b[0m\u001b[0mimwrite\u001b[0m\u001b[1;33m(\u001b[0m\u001b[1;34m\"Kaydedilen/kaydedilenmanzara.png\"\u001b[0m\u001b[1;33m,\u001b[0m\u001b[0msolparca\u001b[0m\u001b[1;33m)\u001b[0m\u001b[1;33m\u001b[0m\u001b[1;33m\u001b[0m\u001b[0m\n\u001b[0;32m      3\u001b[0m \u001b[0mcv2\u001b[0m\u001b[1;33m.\u001b[0m\u001b[0mimwrite\u001b[0m\u001b[1;33m(\u001b[0m\u001b[1;34m\"Kaydedilen/kaydedilenmanzara.png\"\u001b[0m\u001b[1;33m,\u001b[0m\u001b[0myeniResim\u001b[0m\u001b[1;33m)\u001b[0m\u001b[1;33m\u001b[0m\u001b[1;33m\u001b[0m\u001b[0m\n",
      "\u001b[1;31mNameError\u001b[0m: name 'sagparca' is not defined"
     ]
    }
   ],
   "source": [
    "cv2.imwrite(\"Kaydedilen/kaydedilenmanzara.png\",sagparca)\n",
    "cv2.imwrite(\"Kaydedilen/kaydedilenmanzara.png\",solparca)\n",
    "cv2.imwrite(\"Kaydedilen/kaydedilenmanzara.png\",yeniResim)"
   ]
  },
  {
   "cell_type": "code",
   "execution_count": null,
   "id": "f32af83f",
   "metadata": {},
   "outputs": [],
   "source": []
  }
 ],
 "metadata": {
  "kernelspec": {
   "display_name": "Python 3 (ipykernel)",
   "language": "python",
   "name": "python3"
  },
  "language_info": {
   "codemirror_mode": {
    "name": "ipython",
    "version": 3
   },
   "file_extension": ".py",
   "mimetype": "text/x-python",
   "name": "python",
   "nbconvert_exporter": "python",
   "pygments_lexer": "ipython3",
   "version": "3.9.7"
  }
 },
 "nbformat": 4,
 "nbformat_minor": 5
}
