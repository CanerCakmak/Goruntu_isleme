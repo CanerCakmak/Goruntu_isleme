{
 "cells": [
  {
   "cell_type": "markdown",
   "id": "b8fd46d2",
   "metadata": {},
   "source": [
    "# Caner Çakmak 200601070"
   ]
  },
  {
   "cell_type": "code",
   "execution_count": null,
   "id": "6e30fb53",
   "metadata": {},
   "outputs": [],
   "source": [
    "import cv2\n",
    "import numpy as np"
   ]
  },
  {
   "cell_type": "markdown",
   "id": "96319642",
   "metadata": {},
   "source": [
    "### Eşikleme"
   ]
  },
  {
   "cell_type": "markdown",
   "id": "9257677f",
   "metadata": {},
   "source": [
    "Eşikleme (Thresholding) bir resme ait piksellerin değerlerini belirli bir eşik değerini <br/>\n",
    "geçmesine/geçmemesine bağlı olarak değerini düzenleyen bir fonksiyondur. \n",
    "\n",
    "Diğer bir tanımlama ile resmin piksel değerleri (veya piksel yoğunluğu) <br/>\n",
    "belirli bir miktarın üzerinde/altında olması durumuna göre piksel değerlerine işlemler yapan bir fonksiyondur. \n",
    "\n",
    "Resimler eşikleme (threshold) yapılmadan önce gray formata çevrilmelidir çünkü <br/>\n",
    "threshold işlemi tek bir piksel değerini kontrol ettiği için tek başına veya ek<br/>\n",
    "kodlar/fonksiyonlar kullanılmadan çok kanallı bir resimde yani renkli resimde uygulanması mümkün değildir. \n",
    "\n",
    "Böyle bir durumda RGB kanalları ayrı ayrı işlenerek sonradan birleştirilebilir. \n",
    "\n"
   ]
  },
  {
   "cell_type": "markdown",
   "id": "71faa16c",
   "metadata": {},
   "source": [
    "### <b>Adım 6. Eşikleme</b>"
   ]
  },
  {
   "cell_type": "code",
   "execution_count": null,
   "id": "12603d9b",
   "metadata": {},
   "outputs": [],
   "source": [
    "img = cv2.imread('Data/gradient.png',0)\n",
    "\n",
    "ret,thresh1 = cv2.threshold(img,127,255,cv2.THRESH_BINARY)\n",
    "ret,thresh2 = cv2.threshold(img,127,255,cv2.THRESH_BINARY_INV)\n",
    "ret,thresh3 = cv2.threshold(img,127,255,cv2.THRESH_TRUNC)\n",
    "ret,thresh4 = cv2.threshold(img,127,255,cv2.THRESH_TOZERO)\n",
    "ret,thresh5 = cv2.threshold(img,127,255,cv2.THRESH_TOZERO_INV)\n",
    "\n",
    "cv2.imshow(\"thresh1\",thresh1)\n",
    "cv2.imshow(\"thresh2 \", thresh2)\n",
    "cv2.imshow(\"thresh3\",thresh3)\n",
    "cv2.imshow(\"thresh4 \", thresh4)\n",
    "cv2.imshow(\"thresh5 \", thresh5)\n",
    "### <b>Adım 6. Eşikleme</b>\n",
    "cv2.waitKey(0)"
   ]
  },
  {
   "cell_type": "markdown",
   "id": "a8aa68e6",
   "metadata": {},
   "source": [
    "### <b>Adım 6.1. Eşikleme (Thresholding Türleri)</b>"
   ]
  },
  {
   "cell_type": "code",
   "execution_count": null,
   "id": "fdbc0bbc",
   "metadata": {},
   "outputs": [],
   "source": [
    "img = cv2.imread('Data/atmaca.jpg',0)\n",
    "\n",
    "ret,thresh1 = cv2.threshold(img,50,255,cv2.THRESH_BINARY)\n",
    "ret,thresh2 = cv2.threshold(img,50,255,cv2.THRESH_BINARY_INV)\n",
    "ret,thresh3 = cv2.threshold(img,50,255,cv2.THRESH_TRUNC)\n",
    "ret,thresh4 = cv2.threshold(img,50,255,cv2.THRESH_TOZERO)\n",
    "ret,thresh5 = cv2.threshold(img,50,255,cv2.THRESH_TOZERO_INV)\n",
    "fig,ax = plt.subplots(3,2)\n",
    "ax[0,0].imshow(thresh1, cmap='gray')\n",
    "ax[0,1].imshow(thresh2, cmap='gray')\n",
    "ax[1,0].imshow(thresh3, cmap='gray')\n",
    "ax[1,1].imshow(thresh4, cmap='gray')\n",
    "ax[2,0].imshow(thresh5, cmap='gray')\n",
    "plt.show()"
   ]
  },
  {
   "cell_type": "markdown",
   "id": "00eb5b00",
   "metadata": {},
   "source": [
    "### <b>Adım 6.2. Eşikleme (Adaptive Thresholding )</b>"
   ]
  },
  {
   "cell_type": "code",
   "execution_count": null,
   "id": "ab173d71",
   "metadata": {},
   "outputs": [],
   "source": [
    "img = cv2.imread('Data/sudoku.jpg',0)\n",
    "\n",
    "ret, thresh1 = cv2.threshold(img,127,255,cv2.THRESH_BINARY)\n",
    "\n",
    "th2 = cv2.adaptiveThreshold(img,255,cv2.ADAPTIVE_THRESH_MEAN_C,\n",
    "                           cv2.THRESH_BINARY,11,2)\n",
    "th3 = cv2.adaptiveThreshold(img,255,cv2.ADAPTIVE_THRESH_GAUSSIAN_C,\n",
    "                           cv2.THRESH_BINARY,11,2)\n",
    "\n",
    "fig,ax = plt.subplots(2,2)\n",
    "ax[0,0].imshow(img,cmap='gray')\n",
    "ax[0,1].imshow(thresh1,cmap='gray')\n",
    "ax[1,0].imshow(th2,cmap='gray')\n",
    "ax[1,1].imshow(th3,cmap='gray')\n",
    "plt.show()### <b>Adım 6.3. Otsu Eşikleme </b>\n",
    "\n",
    "Otsu metodunu kullanarak thresholding yaparken eşik değeri yine belirli bir algoritma ile otomatik olarak hesaplanır. Bu metot adını geliştiren kişi olan Nobuyuki Otsu'dan almıştır. Algoritmanın çalışmasıyla resimde bulunan arka plan ve ön plan görüntüsünü iki ayrı sınıfa ayırabilecek bir eşik değeri hesaplar. Sınıflar arası varyansı maksimize ve sınıf içi piksel yoğunluk varyansını minimize ederek (eşitleyerek) bu eşik değerini hesaplar. \n"
   ]
  },
  {
   "cell_type": "markdown",
   "id": "4a3dcf08",
   "metadata": {},
   "source": [
    "### <b>Adım 6.3. Otsu Eşikleme </b>\n",
    "\n",
    "Otsu metodunu kullanarak thresholding yaparken eşik değeri yine belirli bir algoritma ile otomatik olarak hesaplanır. Bu metot adını geliştiren kişi olan Nobuyuki Otsu'dan almıştır. Algoritmanın çalışmasıyla resimde bulunan arka plan ve ön plan görüntüsünü iki ayrı sınıfa ayırabilecek bir eşik değeri hesaplar. Sınıflar arası varyansı maksimize ve sınıf içi piksel yoğunluk varyansını minimize ederek (eşitleyerek) bu eşik değerini hesaplar. "
   ]
  },
  {
   "cell_type": "code",
   "execution_count": null,
   "id": "3305ffbd",
   "metadata": {},
   "outputs": [],
   "source": [
    "img = cv2.imread('Data/sudoku.jpg',0)\n",
    "\n",
    "ret,thresh1 = cv2.threshold(img,127,255,cv2.THRESH_BINARY)\n",
    "ret,thresh2 = cv2.threshold(img,127,255,cv2.THRESH_OTSU)\n",
    "fig,ax = plt.subplots(1,2)\n",
    "ax[0].imshow(thresh1, cmap='gray')\n",
    "ax[1].imshow(thresh2, cmap='gray')\n",
    "plt.show()### <b>Adım 7. Bulanıklaştırma</b>\n",
    "Piksel değerini belirtilen boyut kadar çevresindeki değerlerin ortalamasını alarak değiştirir."
   ]
  },
  {
   "cell_type": "markdown",
   "id": "3476df18",
   "metadata": {},
   "source": [
    "### <b>Adım 7. Bulanıklaştırma</b>\n",
    "Piksel değerini belirtilen boyut kadar çevresindeki değerlerin ortalamasını alarak değiştirir."
   ]
  },
  {
   "cell_type": "code",
   "execution_count": null,
   "id": "e9f4a53c",
   "metadata": {},
   "outputs": [],
   "source": [
    "img = cv2.imread('Data/atmaca.jpg')\n",
    "sonuc_1 = cv2.blur(img,(4,4))\n",
    "sonuc_2 = cv2.blur(img,(8,8))\n",
    "sonuc_3 = cv2.blur(img,(16,16))\n",
    "cv2.imshow(\"orjinal resim\",img)\n",
    "cv2.imshow(\"sonuc (4x4)\",sonuc_1)\n",
    "cv2.imshow(\"sonuc (8x8)\",sonuc_2)\n",
    "cv2.imshow(\"sonuc (16x16)\",sonuc_3)\n",
    "cv2.waitKey(0)### <b>Adım 7.1. Bulanıklaştırma - medianBlur </b>\n",
    "Parametre almış boyut kadar alanda tarama yapar ve buradaki pikselleri sıralayarak ortanca değerini bularak ortanca değeri piksel ile değiştirir.\n",
    "Parametre olarak verilen kernel büyüklüğü tek sayı olmalıdır."
   ]
  },
  {
   "cell_type": "markdown",
   "id": "38f4a14e",
   "metadata": {},
   "source": [
    "### <b>Adım 7.1. Bulanıklaştırma - medianBlur </b>\n",
    "Parametre almış boyut kadar alanda tarama yapar ve buradaki pikselleri sıralayarak ortanca değerini bularak ortanca değeri piksel ile değiştirir.\n",
    "Parametre olarak verilen kernel büyüklüğü tek sayı olmalıdır."
   ]
  },
  {
   "cell_type": "code",
   "execution_count": null,
   "id": "7eab7a3b",
   "metadata": {},
   "outputs": [],
   "source": [
    "img = cv2.imread('Data/atmaca.jpg')\n",
    "sonuc_1 = cv2.medianBlur(img,(3))\n",
    "sonuc_2 = cv2.medianBlur(img,(5))\n",
    "sonuc_3 = cv2.medianBlur(img,(11))\n",
    "cv2.imshow(\"orjinal resim\",img)\n",
    "cv2.imshow(\"sonuc (3)\",sonuc_1)\n",
    "cv2.imshow(\"sonuc (5)\",sonuc_2)\n",
    "cv2.imshow(\"sonuc (11)\",sonuc_3)\n",
    "\n",
    "cv2.waitKey(0)### <b>Adım 7.2. Bulanıklaştırma - GaussianBlur </b>"
   ]
  },
  {
   "cell_type": "markdown",
   "id": "d8a86712",
   "metadata": {},
   "source": [
    "### <b>Adım 7.2. Bulanıklaştırma - GaussianBlur </b>"
   ]
  },
  {
   "cell_type": "code",
   "execution_count": null,
   "id": "4a86d479",
   "metadata": {},
   "outputs": [],
   "source": [
    "img = cv2.imread('Data/atmaca.jpg')\n",
    "sonuc_1 = cv2.GaussianBlur(img,(3,3),sigmaX=150)\n",
    "sonuc_2 = cv2.GaussianBlur(img,(5,5),sigmaX=150)\n",
    "sonuc_3 = cv2.GaussianBlur(img,(11,11),sigmaX=150)\n",
    "cv2.imshow(\"orjinal resim\",img)\n",
    "cv2.imshow(\"sonuc (3)\",sonuc_1)\n",
    "cv2.imshow(\"sonuc (5)\",sonuc_2)\n",
    "cv2.imshow(\"sonuc (11)\",sonuc_3)\n",
    "\n",
    "cv2.waitKey(0)\n"
   ]
  }
 ],
 "metadata": {
  "kernelspec": {
   "display_name": "Python 3 (ipykernel)",
   "language": "python",
   "name": "python3"
  },
  "language_info": {
   "codemirror_mode": {
    "name": "ipython",
    "version": 3
   },
   "file_extension": ".py",
   "mimetype": "text/x-python",
   "name": "python",
   "nbconvert_exporter": "python",
   "pygments_lexer": "ipython3",
   "version": "3.9.7"
  }
 },
 "nbformat": 4,
 "nbformat_minor": 5
}
