{
 "cells": [
  {
   "cell_type": "markdown",
   "id": "2158383c",
   "metadata": {},
   "source": [
    "# Caner Çakmak 200601070"
   ]
  },
  {
   "cell_type": "markdown",
   "id": "16f26829",
   "metadata": {},
   "source": [
    "## Kütüphaneleri Yükle"
   ]
  },
  {
   "cell_type": "code",
   "execution_count": 1,
   "id": "9d8d1718",
   "metadata": {},
   "outputs": [],
   "source": [
    "import cv2\n",
    "import numpy as np"
   ]
  },
  {
   "cell_type": "markdown",
   "id": "774e0ac5",
   "metadata": {},
   "source": [
    "### Resim Okuma"
   ]
  },
  {
   "cell_type": "code",
   "execution_count": 2,
   "id": "28abe89e",
   "metadata": {},
   "outputs": [],
   "source": [
    "resim = cv2.imread(\"Data/manzara.png\")"
   ]
  },
  {
   "cell_type": "markdown",
   "id": "625e824b",
   "metadata": {},
   "source": [
    "### Resim Gösterme"
   ]
  },
  {
   "cell_type": "code",
   "execution_count": 3,
   "id": "738c3ab3",
   "metadata": {},
   "outputs": [],
   "source": [
    "cv2.imshow(\"Goruntu\", resim)\n",
    "cv2.waitKey(0)\n",
    "cv2.destroyAllWindows()"
   ]
  },
  {
   "cell_type": "markdown",
   "id": "9ed95082",
   "metadata": {},
   "source": [
    "### Resim Kaydetme"
   ]
  },
  {
   "cell_type": "code",
   "execution_count": 4,
   "id": "455b199e",
   "metadata": {},
   "outputs": [
    {
     "data": {
      "text/plain": [
       "True"
      ]
     },
     "execution_count": 4,
     "metadata": {},
     "output_type": "execute_result"
    }
   ],
   "source": [
    "cv2.imwrite(\"Kaydedilen/kaydedilenmanzara.png\",resim)"
   ]
  },
  {
   "cell_type": "markdown",
   "id": "4a4487e1",
   "metadata": {},
   "source": [
    "### Resim Pikselleri "
   ]
  },
  {
   "cell_type": "code",
   "execution_count": 5,
   "id": "2d65db7e",
   "metadata": {},
   "outputs": [
    {
     "name": "stdout",
     "output_type": "stream",
     "text": [
      "(400, 800, 3)\n"
     ]
    }
   ],
   "source": [
    "print(resim.shape)"
   ]
  },
  {
   "cell_type": "markdown",
   "id": "6af528d2",
   "metadata": {},
   "source": [
    "## Resim Bölme"
   ]
  },
  {
   "cell_type": "code",
   "execution_count": 6,
   "id": "34207c35",
   "metadata": {},
   "outputs": [],
   "source": [
    "resim = cv2.imread(\"Data/manzara.png\")\n",
    "kaynak_resim = cv2.imread(\"Data/manzara.png\")\n",
    "\n",
    "cv2.rectangle(kaynak_resim,(400,0),(400,800),(255,0,0),5)\n",
    "solparca = kaynak_resim[0:400,0:400]\n",
    "sagparca = kaynak_resim[0:400,400:800]\n",
    "yeniResim = np.copy(resim)\n",
    "yeniResim[0:800,0:400] = solparca\n",
    "\n",
    "\n",
    "cv2.imshow(\"resim\",resim)\n",
    "cv2.imshow(\"Sag Parca\",sagparca)\n",
    "cv2.imshow(\"Sol Parca\",solparca)\n",
    "cv2.imshow(\"Yeni Resim\",yeniResim)\n",
    "cv2.waitKey(0)\n",
    "cv2.destroyAllWindows()"
   ]
  },
  {
   "cell_type": "markdown",
   "id": "9013d09d",
   "metadata": {},
   "source": [
    "### Bölünen Resimleri Kaydetme"
   ]
  },
  {
   "cell_type": "code",
   "execution_count": 7,
   "id": "f99523c6",
   "metadata": {},
   "outputs": [
    {
     "data": {
      "text/plain": [
       "True"
      ]
     },
     "execution_count": 7,
     "metadata": {},
     "output_type": "execute_result"
    }
   ],
   "source": [
    "cv2.imwrite(\"Kaydedilen/sagparca.png\",sagparca)\n",
    "cv2.imwrite(\"Kaydedilen/solparca.png\",solparca)\n",
    "cv2.imwrite(\"Kaydedilen/yeniResim.png\",yeniResim)"
   ]
  },
  {
   "cell_type": "markdown",
   "id": "c9364dd0",
   "metadata": {},
   "source": [
    "### Bölünen Resimlerin Pikselleri"
   ]
  },
  {
   "cell_type": "code",
   "execution_count": 8,
   "id": "f293293c",
   "metadata": {},
   "outputs": [
    {
     "name": "stdout",
     "output_type": "stream",
     "text": [
      "(400, 400, 3)\n",
      "(400, 400, 3)\n",
      "(400, 800, 3)\n"
     ]
    }
   ],
   "source": [
    "print(sagparca.shape)\n",
    "print(solparca.shape)\n",
    "print(yeniResim.shape)"
   ]
  },
  {
   "cell_type": "markdown",
   "id": "0a7f8ad3",
   "metadata": {},
   "source": [
    "## Rastgele Pikselli Resim Oluştuma"
   ]
  },
  {
   "cell_type": "markdown",
   "id": "02ab9c4e",
   "metadata": {},
   "source": [
    "### Kullanacağımız Resimi Belirleme"
   ]
  },
  {
   "cell_type": "code",
   "execution_count": 20,
   "id": "495d5e4d",
   "metadata": {},
   "outputs": [],
   "source": [
    "goruntu = cv2.imread(\"Kaydedilen/sagparca.png\")\n",
    "\n",
    "cv2.imshow(\"Goruntu\", goruntu)\n",
    "cv2.waitKey(0)\n",
    "cv2.destroyAllWindows()"
   ]
  },
  {
   "cell_type": "markdown",
   "id": "f96f6724",
   "metadata": {},
   "source": [
    "### Rastgele Pikselli Resim Oluşturma"
   ]
  },
  {
   "cell_type": "code",
   "execution_count": 21,
   "id": "740bd362",
   "metadata": {},
   "outputs": [],
   "source": [
    "rastgeleResim = np.random.randint(0, 256, size=(400, 400), dtype=np.uint8)\n",
    "\n",
    "cv2.imshow(\"Goruntu\", rastgeleResim)\n",
    "cv2.waitKey(0)\n",
    "cv2.destroyAllWindows()"
   ]
  },
  {
   "cell_type": "markdown",
   "id": "5acdbef6",
   "metadata": {},
   "source": [
    "### Görüntü ile Rastgele Resim Birleştirme "
   ]
  },
  {
   "cell_type": "code",
   "execution_count": 26,
   "id": "9b665d4e",
   "metadata": {},
   "outputs": [],
   "source": [
    "goruntu = cv2.imread(\"Kaydedilen/sagparca.png\")\n",
    "goruntu[:,:,2] = rastgeleResim\n",
    "\n",
    "cv2.imshow(\"Goruntu\", goruntu)\n",
    "cv2.waitKey(0)\n",
    "cv2.destroyAllWindows()"
   ]
  },
  {
   "cell_type": "markdown",
   "id": "e77bf816",
   "metadata": {},
   "source": [
    "### Birleşmiş Görüntüyü Kaydetme "
   ]
  },
  {
   "cell_type": "code",
   "execution_count": 27,
   "id": "c480cbd8",
   "metadata": {},
   "outputs": [
    {
     "data": {
      "text/plain": [
       "True"
      ]
     },
     "execution_count": 27,
     "metadata": {},
     "output_type": "execute_result"
    }
   ],
   "source": [
    "cv2.imwrite(\"Kaydedilen/birlesmis6.png\", goruntu)"
   ]
  },
  {
   "cell_type": "code",
   "execution_count": null,
   "id": "2c63ee93",
   "metadata": {},
   "outputs": [],
   "source": []
  }
 ],
 "metadata": {
  "kernelspec": {
   "display_name": "Python 3 (ipykernel)",
   "language": "python",
   "name": "python3"
  },
  "language_info": {
   "codemirror_mode": {
    "name": "ipython",
    "version": 3
   },
   "file_extension": ".py",
   "mimetype": "text/x-python",
   "name": "python",
   "nbconvert_exporter": "python",
   "pygments_lexer": "ipython3",
   "version": "3.9.7"
  }
 },
 "nbformat": 4,
 "nbformat_minor": 5
}
